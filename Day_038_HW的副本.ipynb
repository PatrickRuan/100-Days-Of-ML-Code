{
  "nbformat": 4,
  "nbformat_minor": 0,
  "metadata": {
    "kernelspec": {
      "display_name": "Python 3",
      "language": "python",
      "name": "python3"
    },
    "language_info": {
      "codemirror_mode": {
        "name": "ipython",
        "version": 3
      },
      "file_extension": ".py",
      "mimetype": "text/x-python",
      "name": "python",
      "nbconvert_exporter": "python",
      "pygments_lexer": "ipython3",
      "version": "3.6.2"
    },
    "colab": {
      "name": "Day_038_HW的副本.ipynb",
      "version": "0.3.2",
      "provenance": [],
      "collapsed_sections": [],
      "include_colab_link": true
    }
  },
  "cells": [
    {
      "cell_type": "markdown",
      "metadata": {
        "id": "view-in-github",
        "colab_type": "text"
      },
      "source": [
        "<a href=\"https://colab.research.google.com/github/PatrickRuan/100-Days-Of-ML-Code/blob/master/Day_038_HW%E7%9A%84%E5%89%AF%E6%9C%AC.ipynb\" target=\"_parent\"><img src=\"https://colab.research.google.com/assets/colab-badge.svg\" alt=\"Open In Colab\"/></a>"
      ]
    },
    {
      "cell_type": "markdown",
      "metadata": {
        "id": "0FIoULpd_MkW",
        "colab_type": "text"
      },
      "source": [
        "## [作業重點]\n",
        "使用 Sklearn 中的線性迴歸模型，來訓練各種資料集，務必了解送進去模型訓練的**資料型態**為何，也請了解模型中各項參數的意義"
      ]
    },
    {
      "cell_type": "markdown",
      "metadata": {
        "id": "kj2ulp3F_MkZ",
        "colab_type": "text"
      },
      "source": [
        "## 作業\n",
        "試著使用 sklearn datasets 的其他資料集 (wine, boston, ...)，來訓練自己的線性迴歸模型。"
      ]
    },
    {
      "cell_type": "markdown",
      "metadata": {
        "id": "s-SBehZZ_Mkb",
        "colab_type": "text"
      },
      "source": [
        "### HINT: 注意 label 的型態，確定資料集的目標是分類還是回歸，在使用正確的模型訓練！"
      ]
    },
    {
      "cell_type": "code",
      "metadata": {
        "id": "LQEboqUA_Mkd",
        "colab_type": "code",
        "colab": {}
      },
      "source": [
        "import numpy as np\n",
        "import pandas as pd\n",
        "import matplotlib.pyplot as plt\n",
        "from sklearn import datasets\n",
        "\n",
        "\n",
        "\n",
        "wine = datasets.load_wine()\n",
        "boston = datasets.load_boston()\n",
        "breast_cancer = datasets.load_breast_cancer()"
      ],
      "execution_count": 0,
      "outputs": []
    },
    {
      "cell_type": "code",
      "metadata": {
        "id": "7ZCYEkil_Uhq",
        "colab_type": "code",
        "outputId": "dee2ae4c-a377-4767-9796-11511b170d11",
        "colab": {
          "base_uri": "https://localhost:8080/",
          "height": 123
        }
      },
      "source": [
        "wine.target # <== array([0, 0, 0, 0, 0, 0, 1, 2...   so, it is a classification problem\n",
        "from sklearn import linear_model\n",
        "from sklearn.model_selection import train_test_split\n",
        "from sklearn.metrics import accuracy_score\n",
        "\n",
        "#LCM = sklearn.linear_model.Linear\n",
        "LCM= linear_model.LogisticRegression()\n",
        "X_train, X_test, y_train, y_test = train_test_split(wine.data, wine.target,test_size=0.2, random_state=43)\n",
        "LCM.fit(X_train, y_train)\n",
        "y_pred = LCM.predict(X_test)\n",
        "acc = accuracy_score(y_test, y_pred)\n",
        "print(f'accuracy is, {acc}')"
      ],
      "execution_count": 0,
      "outputs": [
        {
          "output_type": "stream",
          "text": [
            "accuracy is, 1.0\n"
          ],
          "name": "stdout"
        },
        {
          "output_type": "stream",
          "text": [
            "/usr/local/lib/python3.6/dist-packages/sklearn/linear_model/logistic.py:432: FutureWarning: Default solver will be changed to 'lbfgs' in 0.22. Specify a solver to silence this warning.\n",
            "  FutureWarning)\n",
            "/usr/local/lib/python3.6/dist-packages/sklearn/linear_model/logistic.py:469: FutureWarning: Default multi_class will be changed to 'auto' in 0.22. Specify the multi_class option to silence this warning.\n",
            "  \"this warning.\", FutureWarning)\n"
          ],
          "name": "stderr"
        }
      ]
    },
    {
      "cell_type": "code",
      "metadata": {
        "id": "zhu7j-85_Uk2",
        "colab_type": "code",
        "outputId": "f5070bbb-0b10-4cba-d886-6a072b9828a1",
        "colab": {
          "base_uri": "https://localhost:8080/",
          "height": 51
        }
      },
      "source": [
        "y_pred"
      ],
      "execution_count": 0,
      "outputs": [
        {
          "output_type": "execute_result",
          "data": {
            "text/plain": [
              "array([2, 1, 0, 0, 1, 1, 2, 0, 1, 1, 1, 0, 1, 1, 0, 1, 2, 2, 0, 2, 0, 0,\n",
              "       0, 0, 2, 0, 2, 1, 0, 1, 0, 1, 2, 1, 0, 1])"
            ]
          },
          "metadata": {
            "tags": []
          },
          "execution_count": 18
        }
      ]
    },
    {
      "cell_type": "code",
      "metadata": {
        "id": "YvzrxUYD_Una",
        "colab_type": "code",
        "outputId": "f1d652e5-bf56-4570-e06a-61626a8aae1d",
        "colab": {
          "base_uri": "https://localhost:8080/",
          "height": 51
        }
      },
      "source": [
        "y_test"
      ],
      "execution_count": 0,
      "outputs": [
        {
          "output_type": "execute_result",
          "data": {
            "text/plain": [
              "array([2, 1, 0, 0, 1, 1, 2, 0, 1, 1, 1, 0, 1, 1, 0, 1, 2, 2, 0, 2, 0, 0,\n",
              "       0, 0, 2, 0, 2, 1, 0, 1, 0, 1, 2, 1, 0, 1])"
            ]
          },
          "metadata": {
            "tags": []
          },
          "execution_count": 20
        }
      ]
    },
    {
      "cell_type": "code",
      "metadata": {
        "id": "2J7xmGpA_Urq",
        "colab_type": "code",
        "outputId": "ef81e9fc-6877-4d75-8bd1-594c08789718",
        "colab": {
          "base_uri": "https://localhost:8080/",
          "height": 34
        }
      },
      "source": [
        "boston = datasets.load_boston()\n",
        "print(boston.target[:5])  # regression"
      ],
      "execution_count": 0,
      "outputs": [
        {
          "output_type": "stream",
          "text": [
            "[24.  21.6 34.7 33.4 36.2]\n"
          ],
          "name": "stdout"
        }
      ]
    },
    {
      "cell_type": "code",
      "metadata": {
        "id": "cfnbBRB1_Uvt",
        "colab_type": "code",
        "colab": {}
      },
      "source": [
        "from sklearn import linear_model\n",
        "from sklearn.model_selection import train_test_split, KFold\n",
        "from sklearn import datasets\n",
        "from sklearn.metrics import mean_absolute_error, mean_squared_error"
      ],
      "execution_count": 0,
      "outputs": []
    },
    {
      "cell_type": "code",
      "metadata": {
        "id": "kIgFbOAK_Uq0",
        "colab_type": "code",
        "outputId": "a0273345-b50c-460a-f8d7-19fb0022ebf8",
        "colab": {
          "base_uri": "https://localhost:8080/",
          "height": 51
        }
      },
      "source": [
        "X_train, X_test, y_train, y_test = train_test_split(boston.data, boston.target, test_size=0.2, random_state=43)\n",
        "model = linear_model.LinearRegression()\n",
        "model.fit(X_train, y_train)\n",
        "pred=model.predict(X_test)\n",
        "print(f'mse is { mean_squared_error(y_test, pred) }')\n",
        "print(f'mae is {mean_absolute_error(y_test, pred)}')"
      ],
      "execution_count": 0,
      "outputs": [
        {
          "output_type": "stream",
          "text": [
            "mse is 22.01861344950045\n",
            "mae is 3.291238342730683\n"
          ],
          "name": "stdout"
        }
      ]
    },
    {
      "cell_type": "code",
      "metadata": {
        "id": "xlqe0mVjDSLI",
        "colab_type": "code",
        "outputId": "6b018963-37e2-49b6-9b42-ad236087dc38",
        "colab": {
          "base_uri": "https://localhost:8080/",
          "height": 34
        }
      },
      "source": [
        "breast_cancer = datasets.load_breast_cancer()\n",
        "print(breast_cancer.target[:5])\n",
        "\n",
        "from sklearn.model_selection import KFold, train_test_split\n",
        "from sklearn import linear_model\n",
        "from kelearn.metrics import accuracy_score"
      ],
      "execution_count": 0,
      "outputs": [
        {
          "output_type": "stream",
          "text": [
            "[0 0 0 0 0]\n"
          ],
          "name": "stdout"
        }
      ]
    },
    {
      "cell_type": "code",
      "metadata": {
        "id": "TocLzgO2DSOB",
        "colab_type": "code",
        "outputId": "2d5c89c7-3064-43d9-8e8e-2eba93ab6124",
        "colab": {
          "base_uri": "https://localhost:8080/",
          "height": 88
        }
      },
      "source": [
        "X_train, X_test, y_train, y_test = train_test_split(breast_cancer.data, breast_cancer.target, test_size=0.25, random_state=43)\n",
        "model = linear_model.LogisticRegression()\n",
        "model.fit(X_train, y_train)\n",
        "pred= model.predict(X_test)\n",
        "print(f'accuracy is {accuracy_score(y_test, pred)}')"
      ],
      "execution_count": 0,
      "outputs": [
        {
          "output_type": "stream",
          "text": [
            "accuracy is 0.986013986013986\n"
          ],
          "name": "stdout"
        },
        {
          "output_type": "stream",
          "text": [
            "/usr/local/lib/python3.6/dist-packages/sklearn/linear_model/logistic.py:432: FutureWarning: Default solver will be changed to 'lbfgs' in 0.22. Specify a solver to silence this warning.\n",
            "  FutureWarning)\n"
          ],
          "name": "stderr"
        }
      ]
    },
    {
      "cell_type": "code",
      "metadata": {
        "id": "8iAuvxcgDSRL",
        "colab_type": "code",
        "colab": {}
      },
      "source": [
        ""
      ],
      "execution_count": 0,
      "outputs": []
    },
    {
      "cell_type": "code",
      "metadata": {
        "id": "NEDBJ5GdDSI6",
        "colab_type": "code",
        "colab": {}
      },
      "source": [
        "#try again\n",
        "import numpy as np\n",
        "from sklearn import datasets\n",
        "from sklearn.model_selection import KFold, train_test_split\n",
        "from sklearn.linear_model import LinearRegression, LogisticRegression\n",
        "from sklearn.metrics import mean_absolute_error, mean_squared_error, accuracy_score"
      ],
      "execution_count": 0,
      "outputs": []
    },
    {
      "cell_type": "code",
      "metadata": {
        "id": "m3_zH3u6oD0o",
        "colab_type": "code",
        "colab": {}
      },
      "source": [
        "wine = datasets.load_wine()\n",
        "Boston = datasets.load_boston()\n",
        "diabetes = datasets.load_diabetes()\n",
        "breast_cancer = datasets.load_breast_cancer()"
      ],
      "execution_count": 0,
      "outputs": []
    },
    {
      "cell_type": "code",
      "metadata": {
        "id": "7Fsp3sPhog4t",
        "colab_type": "code",
        "colab": {
          "base_uri": "https://localhost:8080/",
          "height": 87
        },
        "outputId": "ce9e2e76-4489-4d05-be1f-3f2a702d6f15"
      },
      "source": [
        "print(wine.target[:5])\n",
        "print(Boston.target[:5])\n",
        "print(diabetes.target[:5])\n",
        "print(breast_cancer.target[:5])"
      ],
      "execution_count": 15,
      "outputs": [
        {
          "output_type": "stream",
          "text": [
            "[0 0 0 0 0]\n",
            "[24.  21.6 34.7 33.4 36.2]\n",
            "[151.  75. 141. 206. 135.]\n",
            "[0 0 0 0 0]\n"
          ],
          "name": "stdout"
        }
      ]
    },
    {
      "cell_type": "code",
      "metadata": {
        "id": "e3418bHWo2oR",
        "colab_type": "code",
        "colab": {}
      },
      "source": [
        "wmodel = LogisticRegression()\n",
        "Bmodel = LinearRegression()\n",
        "dmodel = LinearRegression()\n",
        "bmodel = LogisticRegression()\n",
        "\n",
        "X_wtrain, X_wtest, y_wtrain, y_wtest = train_test_split(wine.data, wine.target, test_size=0.2, random_state=43)\n",
        "X_Btrain, X_Btest, y_Btrain, y_Btest = train_test_split(Boston.data, Boston.target, test_size=0.2, random_state=43)\n",
        "X_dtrain, X_dtest, y_dtrain, y_dtest = train_test_split(diabetes.data, diabetes.target, test_size=0.2, random_state=43)\n",
        "X_btrain, X_btest, y_btrain, y_btest = train_test_split(breast_cancer.data, breast_cancer.target, test_size=0.2, random_state=43)"
      ],
      "execution_count": 0,
      "outputs": []
    },
    {
      "cell_type": "code",
      "metadata": {
        "id": "5GD_4OLXrZAN",
        "colab_type": "code",
        "colab": {
          "base_uri": "https://localhost:8080/",
          "height": 232
        },
        "outputId": "6b9ef647-669e-4801-a4a9-7cbda618de1e"
      },
      "source": [
        "wmodel.fit(X_wtrain, y_wtrain)\n",
        "Bmodel.fit(X_Btrain, y_Btrain)\n",
        "dmodel.fit(X_dtrain, y_dtrain)\n",
        "bmodel.fit(X_btrain, y_btrain)"
      ],
      "execution_count": 18,
      "outputs": [
        {
          "output_type": "stream",
          "text": [
            "/usr/local/lib/python3.6/dist-packages/sklearn/linear_model/logistic.py:432: FutureWarning: Default solver will be changed to 'lbfgs' in 0.22. Specify a solver to silence this warning.\n",
            "  FutureWarning)\n",
            "/usr/local/lib/python3.6/dist-packages/sklearn/linear_model/logistic.py:469: FutureWarning: Default multi_class will be changed to 'auto' in 0.22. Specify the multi_class option to silence this warning.\n",
            "  \"this warning.\", FutureWarning)\n",
            "/usr/local/lib/python3.6/dist-packages/sklearn/linear_model/logistic.py:432: FutureWarning: Default solver will be changed to 'lbfgs' in 0.22. Specify a solver to silence this warning.\n",
            "  FutureWarning)\n"
          ],
          "name": "stderr"
        },
        {
          "output_type": "execute_result",
          "data": {
            "text/plain": [
              "LogisticRegression(C=1.0, class_weight=None, dual=False, fit_intercept=True,\n",
              "                   intercept_scaling=1, l1_ratio=None, max_iter=100,\n",
              "                   multi_class='warn', n_jobs=None, penalty='l2',\n",
              "                   random_state=None, solver='warn', tol=0.0001, verbose=0,\n",
              "                   warm_start=False)"
            ]
          },
          "metadata": {
            "tags": []
          },
          "execution_count": 18
        }
      ]
    },
    {
      "cell_type": "code",
      "metadata": {
        "id": "y5hOccHer0wr",
        "colab_type": "code",
        "colab": {
          "base_uri": "https://localhost:8080/",
          "height": 141
        },
        "outputId": "8aa60679-b2e1-470a-aeb4-f544f50aa70a"
      },
      "source": [
        "wpred = wmodel.predict(X_wtest)\n",
        "acc_w = accuracy_score(y_wtest, wpred)\n",
        "print(f'accuracy of wine classification is, {acc_w}\\n')\n",
        "\n",
        "Bpred = Bmodel.predict(X_Btest)\n",
        "mse_B = mean_squared_error(y_Btest, Bpred)\n",
        "mae_B = mean_absolute_error(y_Btest, Bpred)\n",
        "print(f'mse of Bonston regression is, {mse_B}, mae is, {mae_B}\\n')\n",
        "\n",
        "dpred = dmodel.predict(X_dtest)\n",
        "mse_d = mean_squared_error(y_dtest, dpred)\n",
        "mae_d = mean_absolute_error(y_dtest, dpred)\n",
        "print(f'mse of diabetes regression is, {mse_d}, mae is, {mae_d}\\n')\n",
        "\n",
        "\n",
        "\n",
        "bpred = bmodel.predict(X_btest)\n",
        "acc_b = accuracy_score(y_btest, bpred)\n",
        "print(f'accuracy of breast cancer classification is, {acc_b}')"
      ],
      "execution_count": 28,
      "outputs": [
        {
          "output_type": "stream",
          "text": [
            "accuracy of wine classification is, 1.0\n",
            "\n",
            "mse of Bonston regression is, 22.01861344950045, mae is, 3.291238342730683\n",
            "\n",
            "mse of diabetes regression is, 2858.2551533228366, mae is, 44.58196796591311\n",
            "\n",
            "accuracy of breast cancer classification is, 0.9824561403508771\n"
          ],
          "name": "stdout"
        }
      ]
    },
    {
      "cell_type": "code",
      "metadata": {
        "id": "J_UEJXICt8Jj",
        "colab_type": "code",
        "colab": {}
      },
      "source": [
        ""
      ],
      "execution_count": 0,
      "outputs": []
    },
    {
      "cell_type": "code",
      "metadata": {
        "id": "M3KmtRJnt8sQ",
        "colab_type": "code",
        "colab": {}
      },
      "source": [
        ""
      ],
      "execution_count": 0,
      "outputs": []
    },
    {
      "cell_type": "code",
      "metadata": {
        "id": "L4cy2-Mqt9HG",
        "colab_type": "code",
        "colab": {}
      },
      "source": [
        ""
      ],
      "execution_count": 0,
      "outputs": []
    }
  ]
}