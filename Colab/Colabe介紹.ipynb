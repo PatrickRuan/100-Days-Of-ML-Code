{
  "nbformat": 4,
  "nbformat_minor": 0,
  "metadata": {
    "colab": {
      "name": "Colabe介紹.ipynb",
      "provenance": [],
      "include_colab_link": true
    },
    "kernelspec": {
      "name": "python3",
      "display_name": "Python 3"
    }
  },
  "cells": [
    {
      "cell_type": "markdown",
      "metadata": {
        "id": "view-in-github",
        "colab_type": "text"
      },
      "source": [
        "<a href=\"https://colab.research.google.com/github/PatrickRuan/100-Days-Of-ML-Code/blob/master/Colab/Colabe%E4%BB%8B%E7%B4%B9.ipynb\" target=\"_parent\"><img src=\"https://colab.research.google.com/assets/colab-badge.svg\" alt=\"Open In Colab\"/></a>"
      ]
    },
    {
      "cell_type": "markdown",
      "metadata": {
        "id": "Mh-rD4wFL86H",
        "colab_type": "text"
      },
      "source": [
        "## 開啟一個空白的 Colab\n",
        "\n",
        "1.   在 Google Drive 中!\n",
        "![Google Drive](https://drive.google.com/file/d/1okr7madetHjbwdGM1SQxQy_gGwWThTi8/view?usp=sharing)\n",
        "\n",
        "![data augmentation](https://cdn-images-1.medium.com/max/800/1*H0V8WAX9nLEmiD7cd1twow.png)\n",
        "2.   List item\n",
        "\n",
        "\n"
      ]
    },
    {
      "cell_type": "code",
      "metadata": {
        "id": "XeSx0LU4Pa_B",
        "colab_type": "code",
        "colab": {}
      },
      "source": [
        ""
      ],
      "execution_count": 0,
      "outputs": []
    }
  ]
}